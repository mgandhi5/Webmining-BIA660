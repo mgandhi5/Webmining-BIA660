{
 "cells": [
  {
   "cell_type": "code",
   "execution_count": 15,
   "metadata": {},
   "outputs": [],
   "source": [
    "import tweepy\n",
    "import csv\n",
    "import datetime\n",
    "\n",
    "CONSUMER_KEY= \"WKeqMjpMbNvYGChAtRuQT91Jk\"\n",
    "CONSUMER_SECRET= \"gClOxiZ7FMnuzi72y3hh7FMri7JaZ4xvVVzV00AQWtZgTcTDiE\"\n",
    "ACCESS_KEY= \"1520233491232968706-6TgfbqL3DWzYA1DQ6ROLdOtmRFBd72\"\n",
    "ACCESS_SECRET= \"wfDz3fYQ3TazSiadyXY0E4FJd4W1qVHKssdKyCaKFLuqI\"\n",
    "\n",
    "auth=tweepy.OAuthHandler(CONSUMER_KEY,CONSUMER_SECRET)\n",
    "auth.set_access_token(ACCESS_KEY,ACCESS_SECRET)\n",
    "api=tweepy.API(auth)\n"
   ]
  },
  {
   "cell_type": "code",
   "execution_count": 20,
   "metadata": {},
   "outputs": [],
   "source": [
    "def get_all_tweets(user_name):\n",
    "    \n",
    "    alltweets=[]\n",
    "    new_tweets=api.user_timeline(screen_name=user_name, count=200, )\n",
    "    # since my account is old, there may be syntax difference, here you may need screen_name=user_name\n",
    "    alltweets.extend(new_tweets)\n",
    "    \n",
    "    outtweets = [[tweet.id_str, tweet.user.name, tweet.created_at, \n",
    "                  tweet.text.encode(\"utf-8\")] for tweet in alltweets]\n",
    "            \n",
    "    with open('%s_tweet.csv' % user_name,'w') as outputfile: \n",
    "        writer=csv.writer(outputfile)\n",
    "        writer.writerow([\"id\",\"user_name\",\"created_at\",\"text\"])\n",
    "        writer.writerows(outtweets)\n",
    "    pass\n",
    "\n",
    "if __name__ == '__main__':\n",
    "    get_all_tweets(\"KelloggCompany\")\n",
    "    "
   ]
  },
  {
   "cell_type": "code",
   "execution_count": 22,
   "metadata": {},
   "outputs": [
    {
     "name": "stdout",
     "output_type": "stream",
     "text": [
      "False\n"
     ]
    }
   ],
   "source": [
    "# also try if you can run this\n",
    "\n",
    "dog=\"Microsoft\"\n",
    "cat=\"Oracle\"\n",
    "\n",
    "is_following = api.get_friendship(source_screen_name=cat,target_screen_name=dog)\n",
    "print(is_following[1].following)\n"
   ]
  },
  {
   "cell_type": "code",
   "execution_count": null,
   "metadata": {},
   "outputs": [],
   "source": []
  }
 ],
 "metadata": {
  "kernelspec": {
   "display_name": "Python 3 (ipykernel)",
   "language": "python",
   "name": "python3"
  },
  "language_info": {
   "codemirror_mode": {
    "name": "ipython",
    "version": 3
   },
   "file_extension": ".py",
   "mimetype": "text/x-python",
   "name": "python",
   "nbconvert_exporter": "python",
   "pygments_lexer": "ipython3",
   "version": "3.9.7"
  }
 },
 "nbformat": 4,
 "nbformat_minor": 4
}
